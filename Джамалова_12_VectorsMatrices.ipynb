{
  "nbformat": 4,
  "nbformat_minor": 0,
  "metadata": {
    "colab": {
      "provenance": [],
      "include_colab_link": true
    },
    "kernelspec": {
      "name": "python3",
      "display_name": "Python 3"
    },
    "language_info": {
      "name": "python"
    }
  },
  "cells": [
    {
      "cell_type": "markdown",
      "metadata": {
        "id": "view-in-github",
        "colab_type": "text"
      },
      "source": [
        "<a href=\"https://colab.research.google.com/github/dzhamalovas/ML/blob/main/%D0%94%D0%B6%D0%B0%D0%BC%D0%B0%D0%BB%D0%BE%D0%B2%D0%B0_12_VectorsMatrices.ipynb\" target=\"_parent\"><img src=\"https://colab.research.google.com/assets/colab-badge.svg\" alt=\"Open In Colab\"/></a>"
      ]
    },
    {
      "cell_type": "markdown",
      "metadata": {
        "id": "La_cEqh418R7"
      },
      "source": [
        "## Векторы и матрицы"
      ]
    },
    {
      "cell_type": "markdown",
      "metadata": {
        "id": "ITSohtIb3xri"
      },
      "source": [
        "### Массив Numpy (Numpy array)"
      ]
    },
    {
      "cell_type": "code",
      "metadata": {
        "id": "pD3xI-y148Dx"
      },
      "source": [
        "import numpy as np"
      ],
      "execution_count": null,
      "outputs": []
    },
    {
      "cell_type": "code",
      "metadata": {
        "id": "y1_WVreA14IF"
      },
      "source": [
        "# предположим мы записали наши данные\n",
        "# роста, веса и обхвата шеи одного человека в список\n",
        "data = [1.72, 54, 36.2]"
      ],
      "execution_count": null,
      "outputs": []
    },
    {
      "cell_type": "code",
      "metadata": {
        "colab": {
          "base_uri": "https://localhost:8080/"
        },
        "id": "aLumw2iL4bKM",
        "outputId": "239a60b3-9c10-48e2-cb6d-dd2738aaf091"
      },
      "source": [
        "# убедимся, что это список с помощью функции type()\n",
        "type(data)"
      ],
      "execution_count": null,
      "outputs": [
        {
          "output_type": "execute_result",
          "data": {
            "text/plain": [
              "list"
            ]
          },
          "metadata": {},
          "execution_count": 3
        }
      ]
    },
    {
      "cell_type": "code",
      "metadata": {
        "colab": {
          "base_uri": "https://localhost:8080/"
        },
        "id": "KoaFIduc4vqW",
        "outputId": "f3dc4095-6234-41a5-f095-136ce7209614"
      },
      "source": [
        "# преобразуем список в массив Numpy\n",
        "data_Numpy = np.array(data)\n",
        "data_Numpy"
      ],
      "execution_count": null,
      "outputs": [
        {
          "output_type": "execute_result",
          "data": {
            "text/plain": [
              "array([ 1.72, 54.  , 36.2 ])"
            ]
          },
          "metadata": {},
          "execution_count": 4
        }
      ]
    },
    {
      "cell_type": "code",
      "metadata": {
        "colab": {
          "base_uri": "https://localhost:8080/"
        },
        "id": "pSFD2lOR45VW",
        "outputId": "a0e2b699-64e9-4926-f1c1-c3d46ed8cecf"
      },
      "source": [
        "# если у нас несколько наблюдений, то нужна матрица, т.е.\n",
        "# по сути, несколько векторов\n",
        "data_matrix = np.array([[1.72, 54, 36.2], [1.74, 58, 36.3], [1.68, 52, 32.9]])\n",
        "data_matrix"
      ],
      "execution_count": null,
      "outputs": [
        {
          "output_type": "execute_result",
          "data": {
            "text/plain": [
              "array([[ 1.72, 54.  , 36.2 ],\n",
              "       [ 1.74, 58.  , 36.3 ],\n",
              "       [ 1.68, 52.  , 32.9 ]])"
            ]
          },
          "metadata": {},
          "execution_count": 5
        }
      ]
    },
    {
      "cell_type": "code",
      "metadata": {
        "colab": {
          "base_uri": "https://localhost:8080/"
        },
        "id": "gZUsnCdh6FBX",
        "outputId": "1652c0bb-1165-4f0c-d5f1-4bff13727b02"
      },
      "source": [
        "# мы можем посмотреть размерность матрицы (количество строк и столбцов)\n",
        "data_matrix.shape"
      ],
      "execution_count": null,
      "outputs": [
        {
          "output_type": "execute_result",
          "data": {
            "text/plain": [
              "(3, 3)"
            ]
          },
          "metadata": {},
          "execution_count": 6
        }
      ]
    },
    {
      "cell_type": "markdown",
      "metadata": {
        "id": "P1BzMhSL6nPc"
      },
      "source": [
        "### Скалярное произведение векторов (dot product)"
      ]
    },
    {
      "cell_type": "markdown",
      "metadata": {
        "id": "6xsjBTTiCbN2"
      },
      "source": [
        "Напомню формулу:\n",
        "\n",
        "  $$\\textbf{a}=(a_{1}, a_{2})$$\n",
        "  $$\\textbf{w}=(w_{1}, w_{2})$$\n",
        "  $$\\textbf{a}\\cdot\\textbf{w}=a_{1}w_{1}+a_{2}w_{2}$$"
      ]
    },
    {
      "cell_type": "code",
      "metadata": {
        "id": "oLKtgXZO6WBe"
      },
      "source": [
        "# даны два вектора в виде массивов Numpy\n",
        "\n",
        "a = np.array([1.72, 54]) # вектор данных\n",
        "w = np.array([19.86, 0.05]) # вектор весов"
      ],
      "execution_count": null,
      "outputs": []
    },
    {
      "cell_type": "code",
      "metadata": {
        "colab": {
          "base_uri": "https://localhost:8080/"
        },
        "id": "SvfwMrCN7AHp",
        "outputId": "44e5f225-9908-4950-adba-a65adf4faaf7"
      },
      "source": [
        "# перемножим их вручную\n",
        "1.72 * 19.86 + 54 * 0.05"
      ],
      "execution_count": null,
      "outputs": [
        {
          "output_type": "execute_result",
          "data": {
            "text/plain": [
              "36.8592"
            ]
          },
          "metadata": {},
          "execution_count": 8
        }
      ]
    },
    {
      "cell_type": "code",
      "metadata": {
        "colab": {
          "base_uri": "https://localhost:8080/"
        },
        "id": "ISUEBSne7FWX",
        "outputId": "f89742e3-b550-43c9-85b9-d6fd86013025"
      },
      "source": [
        "# используем скалярное произведение векторов\n",
        "np.dot(a, w)"
      ],
      "execution_count": null,
      "outputs": [
        {
          "output_type": "execute_result",
          "data": {
            "text/plain": [
              "36.8592"
            ]
          },
          "metadata": {},
          "execution_count": 9
        }
      ]
    },
    {
      "cell_type": "markdown",
      "metadata": {
        "id": "1KeDIzMV9XyN"
      },
      "source": [
        "### Косинусное сходство между векторами"
      ]
    },
    {
      "cell_type": "markdown",
      "metadata": {
        "id": "-Wf32jTfA_H6"
      },
      "source": [
        "Первый шаг: найдем косинус угла по формуле $$ \\cos \\theta ={\\mathbf {b} \\cdot \\mathbf {c} \\over \\|\\mathbf {b} \\|\\|\\mathbf {c} \\|} $$"
      ]
    },
    {
      "cell_type": "code",
      "metadata": {
        "id": "m08mssyx8_Ye"
      },
      "source": [
        "# даны два вектора (данные двух человек)\n",
        "# нам нужно понять, насколько они схожи\n",
        "b = np.array([1.72, 54, 36.2])\n",
        "c = np.array([1.56, 47, 30.0])"
      ],
      "execution_count": null,
      "outputs": []
    },
    {
      "cell_type": "code",
      "metadata": {
        "id": "Z5MmrsTs_pTy"
      },
      "source": [
        "# вначале выполним операции в числителе формулы\n",
        "numerator = np.dot(b, c)"
      ],
      "execution_count": null,
      "outputs": []
    },
    {
      "cell_type": "code",
      "metadata": {
        "id": "fdufBHKu_Fnc"
      },
      "source": [
        "# теперь займемся знаменателем и\n",
        "# (1) рассчитаем длины (по большому счету, это теорема Пифагора)\n",
        "bLen = np.linalg.norm(b)\n",
        "cLen = np.linalg.norm(c)\n",
        "\n",
        "# (2) перемножим их\n",
        "denominator = bLen * cLen"
      ],
      "execution_count": null,
      "outputs": []
    },
    {
      "cell_type": "code",
      "metadata": {
        "colab": {
          "base_uri": "https://localhost:8080/"
        },
        "id": "rwtu1Ivn_XeJ",
        "outputId": "e801f2ff-b254-404c-87fa-3d01939531cd"
      },
      "source": [
        "# посмотрим, чему равен косинус угла между векторами\n",
        "cosine = numerator/denominator\n",
        "cosine"
      ],
      "execution_count": null,
      "outputs": [
        {
          "output_type": "execute_result",
          "data": {
            "text/plain": [
              "0.9997468709497721"
            ]
          },
          "metadata": {},
          "execution_count": 13
        }
      ]
    },
    {
      "cell_type": "markdown",
      "metadata": {
        "id": "59IBUJS7BLGe"
      },
      "source": [
        "Второй шаг: найдем угол в градусах по его косинусу"
      ]
    },
    {
      "cell_type": "code",
      "metadata": {
        "id": "_Do9SMzhAW9N"
      },
      "source": [
        "# для этого вначале вычислим угол в радианах\n",
        "angle_radians = np.arccos(cosine)\n",
        "\n",
        "# затем в градусах\n",
        "angle_degrees = angle_radians * 360/2/np.pi"
      ],
      "execution_count": null,
      "outputs": []
    },
    {
      "cell_type": "code",
      "metadata": {
        "colab": {
          "base_uri": "https://localhost:8080/"
        },
        "id": "3HdLzhUHB5PG",
        "outputId": "0e8ca39f-1270-4983-f3d2-a15a1aa79336"
      },
      "source": [
        "angle_degrees"
      ],
      "execution_count": null,
      "outputs": [
        {
          "output_type": "execute_result",
          "data": {
            "text/plain": [
              "1.2891925481394304"
            ]
          },
          "metadata": {},
          "execution_count": 15
        }
      ]
    },
    {
      "cell_type": "markdown",
      "metadata": {
        "id": "dodmiVSKGLsf"
      },
      "source": [
        "### Упражнения"
      ]
    },
    {
      "cell_type": "code",
      "metadata": {
        "id": "MF0Kj8P-GNU-"
      },
      "source": [
        "# даны два вектора\n",
        "v1 = np.array([37, 84, 110.2, 18.6])\n",
        "v2 = np.array([5, 36, 199.6, 5.1])"
      ],
      "execution_count": null,
      "outputs": []
    },
    {
      "cell_type": "markdown",
      "source": [
        "#### Основы работы с массивами"
      ],
      "metadata": {
        "id": "xhsK7v1O9fyx"
      }
    },
    {
      "cell_type": "markdown",
      "source": [
        "**Задание 1**. Посмотрите с помощью Питона на тип данных любого из двух векторов."
      ],
      "metadata": {
        "id": "9ijkO72o9QJS"
      }
    },
    {
      "cell_type": "code",
      "metadata": {
        "id": "gdGx3bHNKu51",
        "colab": {
          "base_uri": "https://localhost:8080/"
        },
        "outputId": "5254a131-77ea-402d-aff7-d41f60491206"
      },
      "source": [
        "import numpy as np\n",
        "\n",
        "# Даны два вектора\n",
        "v1 = np.array([37, 84, 110.2, 18.6])\n",
        "v2 = np.array([5, 36, 199.6, 5.1])\n",
        "\n",
        "# Проверка типа данных первого вектора\n",
        "data_type_v1 = v1.dtype\n",
        "print(f\"Тип данных вектора v1: {data_type_v1}\")\n"
      ],
      "execution_count": null,
      "outputs": [
        {
          "output_type": "stream",
          "name": "stdout",
          "text": [
            "Тип данных вектора v1: float64\n"
          ]
        }
      ]
    },
    {
      "cell_type": "markdown",
      "source": [
        "**Задание 2**. Какая размерность у этих векторов?"
      ],
      "metadata": {
        "id": "J7LbwCj29Zl4"
      }
    },
    {
      "cell_type": "code",
      "metadata": {
        "id": "VtQ1wpgdKnZP",
        "colab": {
          "base_uri": "https://localhost:8080/"
        },
        "outputId": "b9cb4e98-2e5a-42ed-d6d8-1688873c1031"
      },
      "source": [
        "# Проверка размерности векторов\n",
        "shape_v1 = v1.shape\n",
        "shape_v2 = v2.shape\n",
        "\n",
        "print(f\"Размерность вектора v1: {shape_v1}\")\n",
        "print(f\"Размерность вектора v2: {shape_v2}\")\n"
      ],
      "execution_count": null,
      "outputs": [
        {
          "output_type": "stream",
          "name": "stdout",
          "text": [
            "Размерность вектора v1: (4,)\n",
            "Размерность вектора v2: (4,)\n"
          ]
        }
      ]
    },
    {
      "cell_type": "markdown",
      "metadata": {
        "id": "K4Lh1OQCMijh"
      },
      "source": [
        "#### Скалярное произведение векторов"
      ]
    },
    {
      "cell_type": "markdown",
      "source": [
        "**Задание 3**. Перемножьте векторы `v1` и `v2` вручную."
      ],
      "metadata": {
        "id": "9RMXlYGE9lAs"
      }
    },
    {
      "cell_type": "code",
      "metadata": {
        "id": "fSIM8FiVMu6I",
        "colab": {
          "base_uri": "https://localhost:8080/"
        },
        "outputId": "64eff799-1dbf-4dde-b3e6-9cf77eaad0d5"
      },
      "source": [
        "# Ручное перемножение векторов\n",
        "manual_product = sum(v1[i] * v2[i] for i in range(len(v1)))\n",
        "print(f\"Ручное перемножение векторов v1 и v2: {manual_product}\")\n"
      ],
      "execution_count": null,
      "outputs": [
        {
          "output_type": "stream",
          "name": "stdout",
          "text": [
            "Ручное перемножение векторов v1 и v2: 25299.78\n"
          ]
        }
      ]
    },
    {
      "cell_type": "markdown",
      "source": [
        "**Задание 4**. Используйте функцию **dot()**."
      ],
      "metadata": {
        "id": "vivmgULw9uDi"
      }
    },
    {
      "cell_type": "code",
      "metadata": {
        "id": "cmc6SgWXMykd",
        "colab": {
          "base_uri": "https://localhost:8080/"
        },
        "outputId": "5badca97-5144-429c-9ae4-c0dbdb4fab65"
      },
      "source": [
        "# Использование функции dot для скалярного произведения\n",
        "dot_product = np.dot(v1, v2)\n",
        "print(f\"Скалярное произведение векторов v1 и v2 с помощью dot(): {dot_product}\")\n"
      ],
      "execution_count": null,
      "outputs": [
        {
          "output_type": "stream",
          "name": "stdout",
          "text": [
            "Скалярное произведение векторов v1 и v2 с помощью dot(): 25299.78\n"
          ]
        }
      ]
    },
    {
      "cell_type": "markdown",
      "metadata": {
        "id": "ocls86JOM8kS"
      },
      "source": [
        "#### Косинусное сходство между векторами"
      ]
    },
    {
      "cell_type": "markdown",
      "source": [
        "**Задание 5**. Найдите угол в градусах между векторами `v1` и `v2`."
      ],
      "metadata": {
        "id": "kLRkxDh495dE"
      }
    },
    {
      "cell_type": "code",
      "metadata": {
        "id": "Xx8D1lLTNAw3",
        "colab": {
          "base_uri": "https://localhost:8080/"
        },
        "outputId": "217e4af9-e107-4117-eeb6-d10043a88322"
      },
      "source": [
        "# Нормы векторов\n",
        "norm_v1 = np.linalg.norm(v1)\n",
        "norm_v2 = np.linalg.norm(v2)\n",
        "\n",
        "# Нахождение косинуса угла\n",
        "cos_theta = dot_product / (norm_v1 * norm_v2)\n",
        "\n",
        "# Вычисление угла в радианах и преобразование в градусы\n",
        "angle_rad = np.arccos(cos_theta)\n",
        "angle_deg = np.degrees(angle_rad)\n",
        "\n",
        "print(f\"Угол между векторами v1 и v2 в градусах: {angle_deg}\")\n"
      ],
      "execution_count": null,
      "outputs": [
        {
          "output_type": "stream",
          "name": "stdout",
          "text": [
            "Угол между векторами v1 и v2 в градусах: 30.458206946879137\n"
          ]
        }
      ]
    }
  ]
}