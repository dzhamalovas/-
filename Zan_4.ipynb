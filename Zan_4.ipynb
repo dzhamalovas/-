{
  "nbformat": 4,
  "nbformat_minor": 0,
  "metadata": {
    "colab": {
      "provenance": [],
      "authorship_tag": "ABX9TyMPFCi7qTiuPcgV1lxhQ1IJ",
      "include_colab_link": true
    },
    "kernelspec": {
      "name": "python3",
      "display_name": "Python 3"
    },
    "language_info": {
      "name": "python"
    }
  },
  "cells": [
    {
      "cell_type": "markdown",
      "metadata": {
        "id": "view-in-github",
        "colab_type": "text"
      },
      "source": [
        "<a href=\"https://colab.research.google.com/github/dzhamalovas/-/blob/main/Zan_4.ipynb\" target=\"_parent\"><img src=\"https://colab.research.google.com/assets/colab-badge.svg\" alt=\"Open In Colab\"/></a>"
      ]
    },
    {
      "cell_type": "markdown",
      "source": [
        "#Воспользуемся калькулятором"
      ],
      "metadata": {
        "id": "j3ML0RV5NSZ_"
      }
    },
    {
      "cell_type": "code",
      "execution_count": null,
      "metadata": {
        "colab": {
          "base_uri": "https://localhost:8080/"
        },
        "id": "7Uv-iYkMNCiX",
        "outputId": "8c43a3ed-da62-4b47-a9d2-7b21ddb9a3e9"
      },
      "outputs": [
        {
          "output_type": "stream",
          "name": "stdout",
          "text": [
            "4\n"
          ]
        }
      ],
      "source": [
        "print(2+2)"
      ]
    },
    {
      "cell_type": "code",
      "source": [
        "print(4 - 2)"
      ],
      "metadata": {
        "colab": {
          "base_uri": "https://localhost:8080/"
        },
        "id": "CGb8O56nNl1P",
        "outputId": "d4f2755d-8705-4202-a386-983bb36da373"
      },
      "execution_count": null,
      "outputs": [
        {
          "output_type": "stream",
          "name": "stdout",
          "text": [
            "2\n"
          ]
        }
      ]
    },
    {
      "cell_type": "code",
      "source": [
        "print(3 * 5)"
      ],
      "metadata": {
        "colab": {
          "base_uri": "https://localhost:8080/"
        },
        "id": "hkXq7TakNrur",
        "outputId": "4aeaa806-eaf1-4e11-8f1d-5f89d75a370a"
      },
      "execution_count": null,
      "outputs": [
        {
          "output_type": "stream",
          "name": "stdout",
          "text": [
            "15\n"
          ]
        }
      ]
    },
    {
      "cell_type": "code",
      "source": [
        "print(15 / 3)"
      ],
      "metadata": {
        "colab": {
          "base_uri": "https://localhost:8080/"
        },
        "id": "C3vuC1uANt3t",
        "outputId": "c9af0019-dc03-430a-c22f-dda128bf501d"
      },
      "execution_count": null,
      "outputs": [
        {
          "output_type": "stream",
          "name": "stdout",
          "text": [
            "5.0\n"
          ]
        }
      ]
    },
    {
      "cell_type": "code",
      "source": [
        "print(2 ** 5)"
      ],
      "metadata": {
        "colab": {
          "base_uri": "https://localhost:8080/"
        },
        "id": "_2NjMR9CNv65",
        "outputId": "e33cd83e-ecd8-4755-918b-6adc4dcf4607"
      },
      "execution_count": null,
      "outputs": [
        {
          "output_type": "stream",
          "name": "stdout",
          "text": [
            "32\n"
          ]
        }
      ]
    },
    {
      "cell_type": "markdown",
      "source": [
        "# Сравним значения"
      ],
      "metadata": {
        "id": "vxyPugH6N0KJ"
      }
    },
    {
      "cell_type": "code",
      "source": [
        "print(4 > 2)"
      ],
      "metadata": {
        "colab": {
          "base_uri": "https://localhost:8080/"
        },
        "id": "LmWrEBSVN3al",
        "outputId": "57059c8a-d8be-46c5-82d9-1957247fbe29"
      },
      "execution_count": null,
      "outputs": [
        {
          "output_type": "stream",
          "name": "stdout",
          "text": [
            "True\n"
          ]
        }
      ]
    },
    {
      "cell_type": "code",
      "source": [
        "print(4 < 2)"
      ],
      "metadata": {
        "colab": {
          "base_uri": "https://localhost:8080/"
        },
        "id": "Mfj8ouPCN5_6",
        "outputId": "4d7c63e0-acf6-440d-8883-a7e7d9196b43"
      },
      "execution_count": null,
      "outputs": [
        {
          "output_type": "stream",
          "name": "stdout",
          "text": [
            "False\n"
          ]
        }
      ]
    },
    {
      "cell_type": "markdown",
      "source": [
        "# Сохраним информацию"
      ],
      "metadata": {
        "id": "06oIob-eOP-m"
      }
    },
    {
      "cell_type": "code",
      "source": [
        "x = 5\n",
        "print(x * 2)"
      ],
      "metadata": {
        "colab": {
          "base_uri": "https://localhost:8080/"
        },
        "id": "WD9emF24ORHe",
        "outputId": "c38e3127-b095-4c09-c0ed-5f38c0967a64"
      },
      "execution_count": null,
      "outputs": [
        {
          "output_type": "stream",
          "name": "stdout",
          "text": [
            "10\n"
          ]
        }
      ]
    },
    {
      "cell_type": "code",
      "source": [
        "y = 'Питон'\n",
        "print(y)"
      ],
      "metadata": {
        "colab": {
          "base_uri": "https://localhost:8080/"
        },
        "id": "WmsICEuCOWKI",
        "outputId": "5c2b4dbe-8b89-4482-e69e-f4f5a2861a77"
      },
      "execution_count": null,
      "outputs": [
        {
          "output_type": "stream",
          "name": "stdout",
          "text": [
            "Питон\n"
          ]
        }
      ]
    },
    {
      "cell_type": "markdown",
      "source": [
        "# Еще несколько полезных функций"
      ],
      "metadata": {
        "id": "cp67wQsUOs3d"
      }
    },
    {
      "cell_type": "code",
      "source": [
        "print(len(y))"
      ],
      "metadata": {
        "colab": {
          "base_uri": "https://localhost:8080/"
        },
        "id": "xvlZRUKnOZCl",
        "outputId": "cd611a3a-f206-47c2-8039-b1d802e38518"
      },
      "execution_count": null,
      "outputs": [
        {
          "output_type": "stream",
          "name": "stdout",
          "text": [
            "5\n"
          ]
        }
      ]
    },
    {
      "cell_type": "code",
      "source": [
        "print(y[0])"
      ],
      "metadata": {
        "colab": {
          "base_uri": "https://localhost:8080/"
        },
        "id": "wyEi5ylZOy_1",
        "outputId": "73192fbd-5c58-4b72-de3f-06f4c37f3a9f"
      },
      "execution_count": null,
      "outputs": [
        {
          "output_type": "stream",
          "name": "stdout",
          "text": [
            "П\n"
          ]
        }
      ]
    },
    {
      "cell_type": "markdown",
      "source": [
        "#Присваивание и равенство"
      ],
      "metadata": {
        "id": "pzXGXCoMO6QP"
      }
    },
    {
      "cell_type": "code",
      "source": [
        "z = 7"
      ],
      "metadata": {
        "id": "EmcBbP6aO9rl"
      },
      "execution_count": null,
      "outputs": []
    },
    {
      "cell_type": "code",
      "source": [
        "7 == 7"
      ],
      "metadata": {
        "colab": {
          "base_uri": "https://localhost:8080/"
        },
        "id": "IwZ5DrAUO_oR",
        "outputId": "b19404c5-a6cc-426d-ef0e-fa332cfdec9a"
      },
      "execution_count": null,
      "outputs": [
        {
          "output_type": "execute_result",
          "data": {
            "text/plain": [
              "True"
            ]
          },
          "metadata": {},
          "execution_count": 16
        }
      ]
    },
    {
      "cell_type": "markdown",
      "source": [
        "# Упражнения для закрепления"
      ],
      "metadata": {
        "id": "MUOfVkJxPHTO"
      }
    },
    {
      "cell_type": "code",
      "source": [
        "# С помощью какой команды мы скажем компьютеру: «возведи число 2 в третью степень и выведи результат»?\n",
        "print(2**3)"
      ],
      "metadata": {
        "colab": {
          "base_uri": "https://localhost:8080/"
        },
        "id": "YUx01TFBPI7T",
        "outputId": "35672320-4729-48fa-82f0-e70d154b5ceb"
      },
      "execution_count": null,
      "outputs": [
        {
          "output_type": "stream",
          "name": "stdout",
          "text": [
            "8\n"
          ]
        }
      ]
    },
    {
      "cell_type": "code",
      "source": [
        "# Как присвоить переменной значение 9?\n",
        "per = 9"
      ],
      "metadata": {
        "id": "1b1mnBMUPR1l"
      },
      "execution_count": null,
      "outputs": []
    }
  ]
}