{
  "nbformat": 4,
  "nbformat_minor": 0,
  "metadata": {
    "colab": {
      "provenance": [],
      "authorship_tag": "ABX9TyPZAJsccSYcwbXjJrWrVyoT",
      "include_colab_link": true
    },
    "kernelspec": {
      "name": "python3",
      "display_name": "Python 3"
    },
    "language_info": {
      "name": "python"
    }
  },
  "cells": [
    {
      "cell_type": "markdown",
      "metadata": {
        "id": "view-in-github",
        "colab_type": "text"
      },
      "source": [
        "<a href=\"https://colab.research.google.com/github/dzhamalovas/ML/blob/main/Zan_5.ipynb\" target=\"_parent\"><img src=\"https://colab.research.google.com/assets/colab-badge.svg\" alt=\"Open In Colab\"/></a>"
      ]
    },
    {
      "cell_type": "markdown",
      "source": [
        "# Списки в Питоне"
      ],
      "metadata": {
        "id": "jTiVtkMeYehl"
      }
    },
    {
      "cell_type": "code",
      "execution_count": null,
      "metadata": {
        "id": "ohf9hH31Yccw"
      },
      "outputs": [],
      "source": [
        "veg_list = ['огурцы', 'помидоры', 'лук', 'картофель']\n",
        "kilo_list = [2, 3, 1, 2]"
      ]
    },
    {
      "cell_type": "code",
      "source": [
        "# создадим новую переменную и запишем в нее новый продукт\n",
        "new_veg = 'морковь'\n",
        "\n",
        "# добавим его в наш список с помощью метода append()\n",
        "veg_list.append(new_veg)\n",
        "\n",
        "# посмотрим, что получилось\n",
        "print(veg_list)"
      ],
      "metadata": {
        "colab": {
          "base_uri": "https://localhost:8080/"
        },
        "id": "NxJTzQ-sYnOp",
        "outputId": "79357fa7-fea0-416b-924d-4734bec5e058"
      },
      "execution_count": null,
      "outputs": [
        {
          "output_type": "stream",
          "name": "stdout",
          "text": [
            "['огурцы', 'помидоры', 'лук', 'картофель', 'морковь']\n"
          ]
        }
      ]
    },
    {
      "cell_type": "code",
      "source": [
        "print(veg_list[1])"
      ],
      "metadata": {
        "colab": {
          "base_uri": "https://localhost:8080/"
        },
        "id": "LrvhMhqrYqBg",
        "outputId": "3692839e-d4f4-476d-f102-f010f2992d84"
      },
      "execution_count": null,
      "outputs": [
        {
          "output_type": "stream",
          "name": "stdout",
          "text": [
            "помидоры\n"
          ]
        }
      ]
    },
    {
      "cell_type": "code",
      "source": [
        "new_list = []"
      ],
      "metadata": {
        "id": "mAlS1gIDYrSY"
      },
      "execution_count": null,
      "outputs": []
    },
    {
      "cell_type": "markdown",
      "source": [
        "# Словари"
      ],
      "metadata": {
        "id": "QtMUY27-YzIb"
      }
    },
    {
      "cell_type": "code",
      "source": [
        "# создадим словарь для списка покупок\n",
        "shopping_dict = {\n",
        "  'огурцы': 2,\n",
        "  'помидоры': 3,\n",
        "  'лук': 1,\n",
        "  'картофель': 2\n",
        "}"
      ],
      "metadata": {
        "id": "0TrokhIwY3hw"
      },
      "execution_count": null,
      "outputs": []
    },
    {
      "cell_type": "code",
      "source": [
        "shopping_dict['морковь'] = 2"
      ],
      "metadata": {
        "id": "lECxDI_NY6v6"
      },
      "execution_count": null,
      "outputs": []
    },
    {
      "cell_type": "code",
      "source": [
        "print(shopping_dict)"
      ],
      "metadata": {
        "id": "5mE20qWqY9GV",
        "outputId": "a9c44758-a12c-40b8-ec4a-86fdf024e9e4",
        "colab": {
          "base_uri": "https://localhost:8080/"
        }
      },
      "execution_count": null,
      "outputs": [
        {
          "output_type": "stream",
          "name": "stdout",
          "text": [
            "{'огурцы': 2, 'помидоры': 3, 'лук': 1, 'картофель': 2, 'морковь': 2}\n"
          ]
        }
      ]
    },
    {
      "cell_type": "code",
      "source": [
        "print(shopping_dict['картофель'])"
      ],
      "metadata": {
        "id": "vj5dejHjY_t4",
        "outputId": "76255515-4f8c-4567-a835-d0b2462560a6",
        "colab": {
          "base_uri": "https://localhost:8080/"
        }
      },
      "execution_count": null,
      "outputs": [
        {
          "output_type": "stream",
          "name": "stdout",
          "text": [
            "2\n"
          ]
        }
      ]
    },
    {
      "cell_type": "code",
      "source": [
        "new_dict = {}"
      ],
      "metadata": {
        "id": "GzmR4p4VZAsz"
      },
      "execution_count": null,
      "outputs": []
    }
  ]
}