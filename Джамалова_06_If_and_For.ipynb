{
  "nbformat": 4,
  "nbformat_minor": 0,
  "metadata": {
    "colab": {
      "provenance": [],
      "include_colab_link": true
    },
    "kernelspec": {
      "name": "python3",
      "display_name": "Python 3"
    },
    "language_info": {
      "name": "python"
    }
  },
  "cells": [
    {
      "cell_type": "markdown",
      "metadata": {
        "id": "view-in-github",
        "colab_type": "text"
      },
      "source": [
        "<a href=\"https://colab.research.google.com/github/dzhamalovas/ML/blob/main/%D0%94%D0%B6%D0%B0%D0%BC%D0%B0%D0%BB%D0%BE%D0%B2%D0%B0_06_If_and_For.ipynb\" target=\"_parent\"><img src=\"https://colab.research.google.com/assets/colab-badge.svg\" alt=\"Open In Colab\"/></a>"
      ]
    },
    {
      "cell_type": "markdown",
      "metadata": {
        "id": "7itCdD35rjK0"
      },
      "source": [
        "## Условия и циклы"
      ]
    },
    {
      "cell_type": "markdown",
      "metadata": {
        "id": "ojWyjdH5rrdm"
      },
      "source": [
        "### Условия с if"
      ]
    },
    {
      "cell_type": "code",
      "metadata": {
        "id": "XQ4n90sWddxv",
        "colab": {
          "base_uri": "https://localhost:8080/"
        },
        "outputId": "aa985622-82b2-48ec-e529-61ddf25526be"
      },
      "source": [
        "# присваиваем переменной salary значение 75\n",
        "salary = 75\n",
        "# если значение salary больше либо равно 90 выдаем кредит\n",
        "if salary >= 90:\n",
        "  print('Выдать кредит')\n",
        "# в противном случае в кредите отказываем\n",
        "else:\n",
        "  print('В кредите отказать')"
      ],
      "execution_count": null,
      "outputs": [
        {
          "output_type": "stream",
          "name": "stdout",
          "text": [
            "В кредите отказать\n"
          ]
        }
      ]
    },
    {
      "cell_type": "markdown",
      "metadata": {
        "id": "VRtLxZ_zsIfU"
      },
      "source": [
        "### Цикл for"
      ]
    },
    {
      "cell_type": "code",
      "metadata": {
        "id": "Gwmv2NzAsCw5"
      },
      "source": [
        "# воспользуемся списком покупок из предыдущего занятия\n",
        "veg_list = ['огурцы', 'помидоры', 'лук', 'картофель']"
      ],
      "execution_count": null,
      "outputs": []
    },
    {
      "cell_type": "code",
      "metadata": {
        "colab": {
          "base_uri": "https://localhost:8080/"
        },
        "id": "FzPDj_7jsLq-",
        "outputId": "652bc7fc-6ec2-40a5-e355-28ba3c71d9a9"
      },
      "source": [
        "# в цикле выведем каждый из элементов списка один за другим\n",
        "for i in veg_list:\n",
        "  print(i)"
      ],
      "execution_count": null,
      "outputs": [
        {
          "output_type": "stream",
          "name": "stdout",
          "text": [
            "огурцы\n",
            "помидоры\n",
            "лук\n",
            "картофель\n"
          ]
        }
      ]
    },
    {
      "cell_type": "code",
      "metadata": {
        "id": "UgYxunhtsnul"
      },
      "source": [
        "# возьмем словарь из предыдущего занятия\n",
        "shopping_dict = {\n",
        "  'огурцы': 2,\n",
        "  'помидоры': 3,\n",
        "  'лук': 1,\n",
        "  'картофель': 2\n",
        "}"
      ],
      "execution_count": null,
      "outputs": []
    },
    {
      "cell_type": "code",
      "metadata": {
        "colab": {
          "base_uri": "https://localhost:8080/"
        },
        "id": "q5_-NtjPw9UB",
        "outputId": "c0866292-3f34-47c4-8349-a1e9f3f1ee39"
      },
      "source": [
        "# вывыдем все ключи и значения словаря с помощью цикла\n",
        "for k, v in shopping_dict.items():\n",
        "  print(k,v)"
      ],
      "execution_count": null,
      "outputs": [
        {
          "output_type": "stream",
          "name": "stdout",
          "text": [
            "огурцы 2\n",
            "помидоры 3\n",
            "лук 1\n",
            "картофель 2\n"
          ]
        }
      ]
    },
    {
      "cell_type": "code",
      "metadata": {
        "colab": {
          "base_uri": "https://localhost:8080/"
        },
        "id": "jnoVHDwf250m",
        "outputId": "9d2bb267-70c2-4ac5-c6f0-1ccff9bedf99"
      },
      "source": [
        "# выведем только ключи\n",
        "for k in shopping_dict.keys():\n",
        "  print(k)"
      ],
      "execution_count": null,
      "outputs": [
        {
          "output_type": "stream",
          "name": "stdout",
          "text": [
            "огурцы\n",
            "помидоры\n",
            "лук\n",
            "картофель\n"
          ]
        }
      ]
    },
    {
      "cell_type": "code",
      "metadata": {
        "colab": {
          "base_uri": "https://localhost:8080/"
        },
        "id": "gk03r4eC3G0n",
        "outputId": "f7a06eda-d8ed-46bc-e2bf-bdda361708cd"
      },
      "source": [
        "# выведем только значения\n",
        "for v in shopping_dict.values():\n",
        "  print(v)"
      ],
      "execution_count": null,
      "outputs": [
        {
          "output_type": "stream",
          "name": "stdout",
          "text": [
            "2\n",
            "3\n",
            "1\n",
            "2\n"
          ]
        }
      ]
    },
    {
      "cell_type": "markdown",
      "metadata": {
        "id": "90nzMI4eb_R7"
      },
      "source": [
        "### Упражнения"
      ]
    },
    {
      "cell_type": "markdown",
      "metadata": {
        "id": "yFvobYcLd6Wt"
      },
      "source": [
        "#### Условия с `if`"
      ]
    },
    {
      "cell_type": "markdown",
      "source": [
        "**Задание 1**. Создайте переменную `age` и запишите в нее число 25."
      ],
      "metadata": {
        "id": "x59nzqk3U48y"
      }
    },
    {
      "cell_type": "code",
      "metadata": {
        "id": "yBRUnnCacDA5"
      },
      "source": [
        "age = 25"
      ],
      "execution_count": null,
      "outputs": []
    },
    {
      "cell_type": "markdown",
      "source": [
        "**Задание 2**. Напишите программу, которая выведет текст \"Продажа алкоголя разрешена\", если переменная `age` больше или равна 18, в противном случае на экране должно появиться \"Алкоголь не продавать\"."
      ],
      "metadata": {
        "id": "oT8OjcjdU_i-"
      }
    },
    {
      "cell_type": "code",
      "metadata": {
        "id": "36QQMuAbcQbs",
        "outputId": "a4fee62f-24fc-4176-ea82-073cbc8bf54f",
        "colab": {
          "base_uri": "https://localhost:8080/"
        }
      },
      "source": [
        "if age >= 18:\n",
        "    print(\"Продажа алкоголя разрешена\")\n",
        "else:\n",
        "    print(\"Алкоголь не продавать\")"
      ],
      "execution_count": null,
      "outputs": [
        {
          "output_type": "stream",
          "name": "stdout",
          "text": [
            "Продажа алкоголя разрешена\n"
          ]
        }
      ]
    },
    {
      "cell_type": "markdown",
      "metadata": {
        "id": "Jv41_0D8eSP5"
      },
      "source": [
        "#### Цикл `for` и списки"
      ]
    },
    {
      "cell_type": "markdown",
      "source": [
        "**Задание 3**. Возьмите список с днями недели из предыдущего занятия и в цикле `for` выведите все дни с понедельника по воскресенье."
      ],
      "metadata": {
        "id": "mE-lFeA7VPjt"
      }
    },
    {
      "cell_type": "code",
      "metadata": {
        "id": "Tw9SO4csdUw3",
        "outputId": "38067754-3ba2-4974-bdab-cd6c5716991d",
        "colab": {
          "base_uri": "https://localhost:8080/"
        }
      },
      "source": [
        "days_of_week = [\"Понедельник\", \"Вторник\", \"Среда\", \"Четверг\", \"Пятница\", \"Суббота\", \"Воскресенье\"]\n",
        "for day in days_of_week:\n",
        "    print(day)\n"
      ],
      "execution_count": null,
      "outputs": [
        {
          "output_type": "stream",
          "name": "stdout",
          "text": [
            "Понедельник\n",
            "Вторник\n",
            "Среда\n",
            "Четверг\n",
            "Пятница\n",
            "Суббота\n",
            "Воскресенье\n"
          ]
        }
      ]
    },
    {
      "cell_type": "markdown",
      "metadata": {
        "id": "oZiv1veAeXIE"
      },
      "source": [
        "#### Цикл `for` и словари"
      ]
    },
    {
      "cell_type": "markdown",
      "source": [
        "**Задание 4**. Возьмите словарь с днями недели и количеством шагов из предыдущего занятия и в цикле `for` выведите дни недели и соответствующее им количество шагов."
      ],
      "metadata": {
        "id": "kK0XokS7VhWL"
      }
    },
    {
      "cell_type": "code",
      "metadata": {
        "id": "_8a_p7mBet6L",
        "outputId": "b1a8dc39-9cc9-4ddb-8e51-47c024a1f51a",
        "colab": {
          "base_uri": "https://localhost:8080/"
        }
      },
      "source": [
        "steps_per_day = {\n",
        "    \"Понедельник\": 8000,\n",
        "    \"Вторник\": 7500,\n",
        "    \"Среда\": 9000,\n",
        "    \"Четверг\": 8200,\n",
        "    \"Пятница\": 7800,\n",
        "    \"Суббота\": 10000,\n",
        "    \"Воскресенье\": 9500\n",
        "}\n",
        "for day, steps in steps_per_day.items():\n",
        "    print(f\"{day}: {steps} шагов\")\n"
      ],
      "execution_count": null,
      "outputs": [
        {
          "output_type": "stream",
          "name": "stdout",
          "text": [
            "Понедельник: 8000 шагов\n",
            "Вторник: 7500 шагов\n",
            "Среда: 9000 шагов\n",
            "Четверг: 8200 шагов\n",
            "Пятница: 7800 шагов\n",
            "Суббота: 10000 шагов\n",
            "Воскресенье: 9500 шагов\n"
          ]
        }
      ]
    }
  ]
}